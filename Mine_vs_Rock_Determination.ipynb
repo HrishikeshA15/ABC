{
  "nbformat": 4,
  "nbformat_minor": 0,
  "metadata": {
    "colab": {
      "provenance": [],
      "authorship_tag": "ABX9TyMT2TPSV1ck12edfe1OGCpK",
      "include_colab_link": true
    },
    "kernelspec": {
      "name": "python3",
      "display_name": "Python 3"
    },
    "language_info": {
      "name": "python"
    }
  },
  "cells": [
    {
      "cell_type": "markdown",
      "metadata": {
        "id": "view-in-github",
        "colab_type": "text"
      },
      "source": [
        "<a href=\"https://colab.research.google.com/github/HrishikeshA15/ABC/blob/main/Mine_vs_Rock_Determination.ipynb\" target=\"_parent\"><img src=\"https://colab.research.google.com/assets/colab-badge.svg\" alt=\"Open In Colab\"/></a>"
      ]
    },
    {
      "cell_type": "markdown",
      "source": [
        "Mine vs Rock prediction in the case of a Submarine"
      ],
      "metadata": {
        "id": "wpQxiv7wPYmT"
      }
    },
    {
      "cell_type": "code",
      "execution_count": null,
      "metadata": {
        "id": "8TdHkQXLES6X"
      },
      "outputs": [],
      "source": [
        "#loading the libraries\n",
        "import numpy as np\n",
        "import pandas as pd\n",
        "from sklearn.model_selection import train_test_split\n",
        "from sklearn.linear_model import LogisticRegression\n",
        "from sklearn.metrics import accuracy_score"
      ]
    },
    {
      "cell_type": "code",
      "source": [
        "#reading the data set into the code\n",
        "sonar_data = pd.read_csv('/content/Copy of sonar data.csv',header=None)\n",
        "sonar_data.head()"
      ],
      "metadata": {
        "id": "r09LiWJ-QNwg"
      },
      "execution_count": null,
      "outputs": []
    },
    {
      "cell_type": "code",
      "source": [
        "#getting to know the data set\n",
        "sonar_data.describe\n",
        "sonar_data.shape\n",
        "sonar_data[60].value_counts()\n",
        "sonar_data.groupby(60).mean()"
      ],
      "metadata": {
        "id": "k8PUr5zKQgkD"
      },
      "execution_count": null,
      "outputs": []
    },
    {
      "cell_type": "code",
      "source": [
        "#seperating the variables from the output\n",
        "X = sonar_data.drop(columns=60,axis=1)\n",
        "Y = sonar_data[60]\n",
        "print(X.shape,Y.shape)"
      ],
      "metadata": {
        "id": "u9I9SLSwR1R8"
      },
      "execution_count": null,
      "outputs": []
    },
    {
      "cell_type": "code",
      "source": [
        "#splitting the data into training and testing set\n",
        "X_train,X_test,Y_train,Y_test = train_test_split(X,Y,test_size=0.1,stratify=Y,random_state=1)\n",
        "print(X_train.shape,Y_train.shape,X_test.shape,Y_test.shape)"
      ],
      "metadata": {
        "id": "w-ppsGQUSWX2"
      },
      "execution_count": null,
      "outputs": []
    },
    {
      "cell_type": "code",
      "source": [
        "#Training the logistic model\n",
        "model = LogisticRegression()"
      ],
      "metadata": {
        "id": "XkaWIDAwTCQ8"
      },
      "execution_count": null,
      "outputs": []
    },
    {
      "cell_type": "code",
      "source": [
        "model.fit(X_train,Y_train)"
      ],
      "metadata": {
        "colab": {
          "base_uri": "https://localhost:8080/"
        },
        "id": "mu9WYSLfTiuT",
        "outputId": "7d977109-c6f0-4a09-fc1f-d38ce0315fc8"
      },
      "execution_count": null,
      "outputs": [
        {
          "output_type": "execute_result",
          "data": {
            "text/plain": [
              "LogisticRegression()"
            ]
          },
          "metadata": {},
          "execution_count": 18
        }
      ]
    },
    {
      "cell_type": "code",
      "source": [
        "#Accuracy on training data\n",
        "X_train_prediction = model.predict(X_train)\n",
        "training_data_accuracy = accuracy_score(X_train_prediction,Y_train)\n",
        "print(\"Accuracy is \",training_data_accuracy)"
      ],
      "metadata": {
        "colab": {
          "base_uri": "https://localhost:8080/"
        },
        "id": "3QSWhOB7TuPI",
        "outputId": "0d6055ac-8122-429d-f919-aa147831c2c0"
      },
      "execution_count": null,
      "outputs": [
        {
          "output_type": "stream",
          "name": "stdout",
          "text": [
            "Accuracy is  0.8342245989304813\n"
          ]
        }
      ]
    },
    {
      "cell_type": "code",
      "source": [
        "X_test_prediction = model.predict(X_test)\n",
        "test_data_accuracy = accuracy_score(X_test_prediction,Y_test)\n",
        "print(\"Accuracy is \",test_data_accuracy)"
      ],
      "metadata": {
        "colab": {
          "base_uri": "https://localhost:8080/"
        },
        "id": "BPgrqemgUZBv",
        "outputId": "b6713da0-7f9d-4861-98c8-79f188fe7f39"
      },
      "execution_count": null,
      "outputs": [
        {
          "output_type": "stream",
          "name": "stdout",
          "text": [
            "Accuracy is  0.7619047619047619\n"
          ]
        }
      ]
    },
    {
      "cell_type": "code",
      "source": [
        "#Making predictions\n",
        "input_data = (0.0094,0.0166,0.0398,0.0359,0.0681,0.0706,0.1020,0.0893,0.0381,0.1328,0.1303,0.0273,0.0644,0.0712,0.1204,0.0717,0.1224,0.2349,0.3684,0.3918,0.4925,0.8793,0.9606,0.8786,0.6905,0.6937,0.5674,0.6540,0.7802,0.7575,0.5836,0.6316,0.8108,0.9039,0.8647,0.6695,0.4027,0.2370,0.2685,0.3662,0.3267,0.2200,0.2996,0.2205,0.1163,0.0635,0.0465,0.0422,0.0174,0.0172,0.0134,0.0141,0.0191,0.0145,0.0065,0.0129,0.0217,0.0087,0.0077,0.0122)\n",
        "\n",
        "#changing input data as an numpy array\n",
        "data = np.asarray(input_data)\n",
        "\n",
        "#resizing the array to make prediction\n",
        "data_final = data.reshape(1,-1)\n",
        "\n",
        "prediction = model.predict(data_final)\n",
        "print(prediction)\n",
        "if (prediction[0]=='R'):\n",
        "  print(\"It is a Rock\")\n",
        "else:\n",
        "  print(\"It is a mine!\")"
      ],
      "metadata": {
        "colab": {
          "base_uri": "https://localhost:8080/"
        },
        "id": "HiMvoij0Uh3S",
        "outputId": "43474bc6-c215-4287-c94f-3d0db2cb1e1c"
      },
      "execution_count": null,
      "outputs": [
        {
          "output_type": "stream",
          "name": "stdout",
          "text": [
            "['R']\n",
            "It is a Rock\n"
          ]
        }
      ]
    },
    {
      "cell_type": "code",
      "source": [],
      "metadata": {
        "id": "9m-HjSoQYgHd"
      },
      "execution_count": null,
      "outputs": []
    }
  ]
}